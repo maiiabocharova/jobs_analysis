{
 "cells": [
  {
   "cell_type": "markdown",
   "metadata": {},
   "source": [
    "## Making csv file"
   ]
  },
  {
   "cell_type": "code",
   "execution_count": 52,
   "metadata": {},
   "outputs": [],
   "source": [
    "import codecs\n",
    "from bs4 import BeautifulSoup\n",
    "import csv\n",
    "import os"
   ]
  },
  {
   "cell_type": "code",
   "execution_count": 62,
   "metadata": {},
   "outputs": [],
   "source": [
    "csv_file.close()"
   ]
  },
  {
   "cell_type": "code",
   "execution_count": 63,
   "metadata": {},
   "outputs": [
    {
     "data": {
      "text/plain": [
       "22"
      ]
     },
     "execution_count": 63,
     "metadata": {},
     "output_type": "execute_result"
    }
   ],
   "source": [
    "csv_file = open('dou_vacancies.csv', 'w', encoding='utf-8')\n",
    "csv_writer = csv.writer(csv_file)\n",
    "csv_writer.writerow(['headline', 'description'])"
   ]
  },
  {
   "cell_type": "code",
   "execution_count": 64,
   "metadata": {},
   "outputs": [],
   "source": [
    "directory = 'dou/rezult'\n",
    "for filename in os.listdir(directory):    \n",
    "    file = codecs.open(directory + '/' + filename, \"r\", 'utf-8')\n",
    "    soup = BeautifulSoup(file)\n",
    "    headline = soup.find('h1', class_=\"g-h2\").get_text()\n",
    "    vacancy = soup.find('div', class_=\"l-vacancy\")\n",
    "    descriptions = vacancy.find_all('div', class_=\"text b-typo vacancy-section\")\n",
    "    text = ''\n",
    "    for description in descriptions:\n",
    "        text += description.get_text()\n",
    "    csv_writer.writerow([headline, text])"
   ]
  },
  {
   "cell_type": "code",
   "execution_count": null,
   "metadata": {},
   "outputs": [],
   "source": [
    "import pandas as pd"
   ]
  },
  {
   "cell_type": "code",
   "execution_count": 65,
   "metadata": {},
   "outputs": [],
   "source": [
    "df = pd.read_csv('dou_vacancies.csv')"
   ]
  },
  {
   "cell_type": "code",
   "execution_count": 67,
   "metadata": {},
   "outputs": [
    {
     "data": {
      "text/html": [
       "<div>\n",
       "<style scoped>\n",
       "    .dataframe tbody tr th:only-of-type {\n",
       "        vertical-align: middle;\n",
       "    }\n",
       "\n",
       "    .dataframe tbody tr th {\n",
       "        vertical-align: top;\n",
       "    }\n",
       "\n",
       "    .dataframe thead th {\n",
       "        text-align: right;\n",
       "    }\n",
       "</style>\n",
       "<table border=\"1\" class=\"dataframe\">\n",
       "  <thead>\n",
       "    <tr style=\"text-align: right;\">\n",
       "      <th></th>\n",
       "      <th>headline</th>\n",
       "      <th>description</th>\n",
       "    </tr>\n",
       "  </thead>\n",
       "  <tbody>\n",
       "    <tr>\n",
       "      <th>0</th>\n",
       "      <td>Junior ML engineer (Computer Vision, 3d)</td>\n",
       "      <td>\\r\\n— Python— хорошая математическая база для ...</td>\n",
       "    </tr>\n",
       "    <tr>\n",
       "      <th>1</th>\n",
       "      <td>Senior Java/BigData Engineer</td>\n",
       "      <td>\\r\\nExperience in Java development (5 years+);...</td>\n",
       "    </tr>\n",
       "    <tr>\n",
       "      <th>2</th>\n",
       "      <td>Java Engineer for HighLoad/BigData project | SM</td>\n",
       "      <td>\\r\\n— Professional Java experience 3+ years— O...</td>\n",
       "    </tr>\n",
       "    <tr>\n",
       "      <th>3</th>\n",
       "      <td>NLP Engineer</td>\n",
       "      <td>\\r\\n— 2+ years experience with Python, includi...</td>\n",
       "    </tr>\n",
       "    <tr>\n",
       "      <th>4</th>\n",
       "      <td>Data Engineer</td>\n",
       "      <td>\\r\\n— 2+ years of hands-on experience as a Dat...</td>\n",
       "    </tr>\n",
       "  </tbody>\n",
       "</table>\n",
       "</div>"
      ],
      "text/plain": [
       "                                          headline  \\\n",
       "0         Junior ML engineer (Computer Vision, 3d)   \n",
       "1                     Senior Java/BigData Engineer   \n",
       "2  Java Engineer for HighLoad/BigData project | SM   \n",
       "3                                     NLP Engineer   \n",
       "4                                    Data Engineer   \n",
       "\n",
       "                                         description  \n",
       "0  \\r\\n— Python— хорошая математическая база для ...  \n",
       "1  \\r\\nExperience in Java development (5 years+);...  \n",
       "2  \\r\\n— Professional Java experience 3+ years— O...  \n",
       "3  \\r\\n— 2+ years experience with Python, includi...  \n",
       "4  \\r\\n— 2+ years of hands-on experience as a Dat...  "
      ]
     },
     "execution_count": 67,
     "metadata": {},
     "output_type": "execute_result"
    }
   ],
   "source": [
    "df.head()"
   ]
  },
  {
   "cell_type": "markdown",
   "metadata": {},
   "source": [
    "## Text processing"
   ]
  },
  {
   "cell_type": "code",
   "execution_count": 103,
   "metadata": {},
   "outputs": [],
   "source": [
    "import re\n",
    "import nltk\n",
    "from nltk.tokenize import word_tokenize\n",
    "#nltk.download('stopwords')\n",
    "#nltk.download('averaged_perceptron_tagger')\n",
    "from nltk.corpus import stopwords\n",
    "from string import punctuation\n",
    "punctuation += '—'"
   ]
  },
  {
   "cell_type": "code",
   "execution_count": 90,
   "metadata": {},
   "outputs": [],
   "source": [
    "stop = set(stopwords.words('english'))\n",
    "punct = list(punctuation)"
   ]
  },
  {
   "cell_type": "code",
   "execution_count": 83,
   "metadata": {},
   "outputs": [],
   "source": [
    "def clean_text(text):\n",
    "    text = text.replace(u'\\xa0', u' ')\n",
    "    text_eng = re.sub('[^a-zA-Z0-9-+ ]+', '', text)\n",
    "    return text_eng"
   ]
  },
  {
   "cell_type": "code",
   "execution_count": 92,
   "metadata": {},
   "outputs": [],
   "source": [
    "def remove_stop_words(text):\n",
    "    lst = word_tokenize(text)\n",
    "    lst = [word for word in lst if word not in stop and word not in punct]\n",
    "    return lst"
   ]
  },
  {
   "cell_type": "code",
   "execution_count": 123,
   "metadata": {},
   "outputs": [],
   "source": [
    "def leave_nouns(lst):\n",
    "    new_lst = [word for (word,pos) in nltk.pos_tag(lst) if pos[:2] == 'NN']\n",
    "    return new_lst"
   ]
  },
  {
   "cell_type": "code",
   "execution_count": 99,
   "metadata": {},
   "outputs": [],
   "source": [
    "df['description'] = df.description.apply(clean_text)"
   ]
  },
  {
   "cell_type": "code",
   "execution_count": 113,
   "metadata": {},
   "outputs": [],
   "source": [
    "df['description'] = df.description.apply(remove_stop_words)"
   ]
  },
  {
   "cell_type": "code",
   "execution_count": 125,
   "metadata": {},
   "outputs": [],
   "source": [
    "df['description'] = df.description.apply(leave_nouns)"
   ]
  },
  {
   "cell_type": "code",
   "execution_count": 119,
   "metadata": {},
   "outputs": [],
   "source": [
    "df['is_data_engineer'] = df['headline'].apply(lambda x: 'data' in x.lower())"
   ]
  },
  {
   "cell_type": "code",
   "execution_count": 132,
   "metadata": {},
   "outputs": [
    {
     "data": {
      "text/html": [
       "<div>\n",
       "<style scoped>\n",
       "    .dataframe tbody tr th:only-of-type {\n",
       "        vertical-align: middle;\n",
       "    }\n",
       "\n",
       "    .dataframe tbody tr th {\n",
       "        vertical-align: top;\n",
       "    }\n",
       "\n",
       "    .dataframe thead th {\n",
       "        text-align: right;\n",
       "    }\n",
       "</style>\n",
       "<table border=\"1\" class=\"dataframe\">\n",
       "  <thead>\n",
       "    <tr style=\"text-align: right;\">\n",
       "      <th></th>\n",
       "      <th>headline</th>\n",
       "      <th>description</th>\n",
       "      <th>is_data_engineer</th>\n",
       "    </tr>\n",
       "  </thead>\n",
       "  <tbody>\n",
       "    <tr>\n",
       "      <th>0</th>\n",
       "      <td>Junior ML engineer (Computer Vision, 3d)</td>\n",
       "      <td>[Python, machine, learning, Numpy, Pandas, Sci...</td>\n",
       "      <td>False</td>\n",
       "    </tr>\n",
       "    <tr>\n",
       "      <th>1</th>\n",
       "      <td>Senior Java/BigData Engineer</td>\n",
       "      <td>[Experience, Java, development, years+Experien...</td>\n",
       "      <td>True</td>\n",
       "    </tr>\n",
       "    <tr>\n",
       "      <th>2</th>\n",
       "      <td>Java Engineer for HighLoad/BigData project | SM</td>\n",
       "      <td>[Java, experience, years, OOPdesign, proficien...</td>\n",
       "      <td>True</td>\n",
       "    </tr>\n",
       "    <tr>\n",
       "      <th>3</th>\n",
       "      <td>NLP Engineer</td>\n",
       "      <td>[years, Python, engineering, experience, API, ...</td>\n",
       "      <td>False</td>\n",
       "    </tr>\n",
       "    <tr>\n",
       "      <th>4</th>\n",
       "      <td>Data Engineer</td>\n",
       "      <td>[years, experience, Data, Engineer, experience...</td>\n",
       "      <td>True</td>\n",
       "    </tr>\n",
       "  </tbody>\n",
       "</table>\n",
       "</div>"
      ],
      "text/plain": [
       "                                          headline  \\\n",
       "0         Junior ML engineer (Computer Vision, 3d)   \n",
       "1                     Senior Java/BigData Engineer   \n",
       "2  Java Engineer for HighLoad/BigData project | SM   \n",
       "3                                     NLP Engineer   \n",
       "4                                    Data Engineer   \n",
       "\n",
       "                                         description  is_data_engineer  \n",
       "0  [Python, machine, learning, Numpy, Pandas, Sci...             False  \n",
       "1  [Experience, Java, development, years+Experien...              True  \n",
       "2  [Java, experience, years, OOPdesign, proficien...              True  \n",
       "3  [years, Python, engineering, experience, API, ...             False  \n",
       "4  [years, experience, Data, Engineer, experience...              True  "
      ]
     },
     "execution_count": 132,
     "metadata": {},
     "output_type": "execute_result"
    }
   ],
   "source": [
    "df.head()"
   ]
  },
  {
   "cell_type": "code",
   "execution_count": 133,
   "metadata": {},
   "outputs": [
    {
     "data": {
      "text/plain": [
       "True     118\n",
       "False     38\n",
       "Name: is_data_engineer, dtype: int64"
      ]
     },
     "execution_count": 133,
     "metadata": {},
     "output_type": "execute_result"
    }
   ],
   "source": [
    "df['is_data_engineer'].value_counts()"
   ]
  },
  {
   "cell_type": "code",
   "execution_count": 139,
   "metadata": {},
   "outputs": [],
   "source": [
    "df_engineers = df.query('is_data_engineer == True').copy()"
   ]
  },
  {
   "cell_type": "code",
   "execution_count": 140,
   "metadata": {},
   "outputs": [
    {
     "data": {
      "text/plain": [
       "1      [Experience, Java, development, years+Experien...\n",
       "2      [Java, experience, years, OOPdesign, proficien...\n",
       "4      [years, experience, Data, Engineer, experience...\n",
       "5      [Clients, mission, everyone, eat, Company, mea...\n",
       "6      [years, Scala, development, cloud, services, A...\n",
       "                             ...                        \n",
       "151    [Experience, data, analytics, data, engineerin...\n",
       "152    [cross-platformcross-browser, QA, solution, do...\n",
       "153    [Fractal, Kyiv, team, position, junior, data, ...\n",
       "154    [years, experience, software, development, pri...\n",
       "155    [Job, SummaryDevelop, Rokus, edge, delivery, i...\n",
       "Name: description, Length: 118, dtype: object"
      ]
     },
     "execution_count": 140,
     "metadata": {},
     "output_type": "execute_result"
    }
   ],
   "source": [
    "df_engineers['description']"
   ]
  },
  {
   "cell_type": "code",
   "execution_count": 141,
   "metadata": {},
   "outputs": [],
   "source": [
    "df_engineers['text'] = df_engineers['description'].apply(lambda x : \" \".join(x))"
   ]
  },
  {
   "cell_type": "code",
   "execution_count": 144,
   "metadata": {},
   "outputs": [],
   "source": [
    "all_text = df_engineers['text'].str.cat(sep=', ')"
   ]
  },
  {
   "cell_type": "code",
   "execution_count": 149,
   "metadata": {},
   "outputs": [],
   "source": [
    "import spacy\n",
    "from spacy.lang.en import English\n",
    "nlp = spacy.load('en_core_web_md')"
   ]
  },
  {
   "cell_type": "code",
   "execution_count": 150,
   "metadata": {},
   "outputs": [],
   "source": [
    "doc = nlp(all_text)"
   ]
  },
  {
   "cell_type": "code",
   "execution_count": 154,
   "metadata": {},
   "outputs": [],
   "source": [
    "list_technologies = []"
   ]
  },
  {
   "cell_type": "code",
   "execution_count": 155,
   "metadata": {},
   "outputs": [],
   "source": [
    "for ent in doc.ents:\n",
    "    if ent.label_ != 'DATE':\n",
    "        list_technologies.append(ent.text)"
   ]
  },
  {
   "cell_type": "code",
   "execution_count": 158,
   "metadata": {},
   "outputs": [],
   "source": [
    "set_of_technologies = set(list_technologies)"
   ]
  },
  {
   "cell_type": "code",
   "execution_count": null,
   "metadata": {},
   "outputs": [],
   "source": []
  }
 ],
 "metadata": {
  "kernelspec": {
   "display_name": "Python 3",
   "language": "python",
   "name": "python3"
  },
  "language_info": {
   "codemirror_mode": {
    "name": "ipython",
    "version": 3
   },
   "file_extension": ".py",
   "mimetype": "text/x-python",
   "name": "python",
   "nbconvert_exporter": "python",
   "pygments_lexer": "ipython3",
   "version": "3.8.2"
  }
 },
 "nbformat": 4,
 "nbformat_minor": 4
}
