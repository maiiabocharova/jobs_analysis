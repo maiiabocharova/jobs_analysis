{
 "cells": [
  {
   "cell_type": "markdown",
   "metadata": {},
   "source": [
    "## Creating csv file"
   ]
  },
  {
   "cell_type": "code",
   "execution_count": 1,
   "metadata": {},
   "outputs": [],
   "source": [
    "import codecs\n",
    "from bs4 import BeautifulSoup\n",
    "import csv\n",
    "import os"
   ]
  },
  {
   "cell_type": "code",
   "execution_count": 2,
   "metadata": {},
   "outputs": [
    {
     "data": {
      "text/plain": [
       "22"
      ]
     },
     "execution_count": 2,
     "metadata": {},
     "output_type": "execute_result"
    }
   ],
   "source": [
    "csv_file = open('dou_jobs.csv', 'w', encoding='utf-8')\n",
    "csv_writer = csv.writer(csv_file)\n",
    "csv_writer.writerow(['headline', 'description'])"
   ]
  },
  {
   "cell_type": "code",
   "execution_count": 3,
   "metadata": {},
   "outputs": [],
   "source": [
    "directory = 'result'\n",
    "for filename in os.listdir(directory):    \n",
    "    file = codecs.open(directory + '/' + filename, \"r\", 'utf-8')\n",
    "    soup = BeautifulSoup(file)\n",
    "    headline = soup.find('h1', class_=\"g-h2\").get_text()\n",
    "    vacancy = soup.find('div', class_=\"l-vacancy\")\n",
    "    descriptions = vacancy.find_all('div', class_=\"text b-typo vacancy-section\")\n",
    "    text = ''\n",
    "    for description in descriptions:\n",
    "        text += description.get_text().strip()\n",
    "    csv_writer.writerow([headline, text])"
   ]
  },
  {
   "cell_type": "code",
   "execution_count": 4,
   "metadata": {},
   "outputs": [],
   "source": [
    "import pandas as pd"
   ]
  },
  {
   "cell_type": "code",
   "execution_count": 5,
   "metadata": {},
   "outputs": [],
   "source": [
    "df = pd.read_csv('dou_jobs.csv')"
   ]
  },
  {
   "cell_type": "code",
   "execution_count": 6,
   "metadata": {},
   "outputs": [
    {
     "data": {
      "text/html": [
       "<div>\n",
       "<style scoped>\n",
       "    .dataframe tbody tr th:only-of-type {\n",
       "        vertical-align: middle;\n",
       "    }\n",
       "\n",
       "    .dataframe tbody tr th {\n",
       "        vertical-align: top;\n",
       "    }\n",
       "\n",
       "    .dataframe thead th {\n",
       "        text-align: right;\n",
       "    }\n",
       "</style>\n",
       "<table border=\"1\" class=\"dataframe\">\n",
       "  <thead>\n",
       "    <tr style=\"text-align: right;\">\n",
       "      <th></th>\n",
       "      <th>headline</th>\n",
       "      <th>description</th>\n",
       "    </tr>\n",
       "  </thead>\n",
       "  <tbody>\n",
       "    <tr>\n",
       "      <th>0</th>\n",
       "      <td>Junior ML engineer (Computer Vision, 3d)</td>\n",
       "      <td>— Python— хорошая математическая база для clas...</td>\n",
       "    </tr>\n",
       "    <tr>\n",
       "      <th>1</th>\n",
       "      <td>Senior Java/BigData Engineer</td>\n",
       "      <td>Experience in Java development (5 years+);Expe...</td>\n",
       "    </tr>\n",
       "    <tr>\n",
       "      <th>2</th>\n",
       "      <td>Java Engineer for HighLoad/BigData project | SM</td>\n",
       "      <td>— Professional Java experience 3+ years— OOP/d...</td>\n",
       "    </tr>\n",
       "    <tr>\n",
       "      <th>3</th>\n",
       "      <td>NLP Engineer</td>\n",
       "      <td>— 2+ years experience with Python, including e...</td>\n",
       "    </tr>\n",
       "    <tr>\n",
       "      <th>4</th>\n",
       "      <td>Data Engineer</td>\n",
       "      <td>— 2+ years of hands-on experience as a Data En...</td>\n",
       "    </tr>\n",
       "  </tbody>\n",
       "</table>\n",
       "</div>"
      ],
      "text/plain": [
       "                                          headline  \\\n",
       "0         Junior ML engineer (Computer Vision, 3d)   \n",
       "1                     Senior Java/BigData Engineer   \n",
       "2  Java Engineer for HighLoad/BigData project | SM   \n",
       "3                                     NLP Engineer   \n",
       "4                                    Data Engineer   \n",
       "\n",
       "                                         description  \n",
       "0  — Python— хорошая математическая база для clas...  \n",
       "1  Experience in Java development (5 years+);Expe...  \n",
       "2  — Professional Java experience 3+ years— OOP/d...  \n",
       "3  — 2+ years experience with Python, including e...  \n",
       "4  — 2+ years of hands-on experience as a Data En...  "
      ]
     },
     "execution_count": 6,
     "metadata": {},
     "output_type": "execute_result"
    }
   ],
   "source": [
    "df.head()"
   ]
  },
  {
   "cell_type": "markdown",
   "metadata": {},
   "source": [
    "## Text processing"
   ]
  },
  {
   "cell_type": "code",
   "execution_count": 7,
   "metadata": {},
   "outputs": [
    {
     "data": {
      "text/html": [
       "<div>\n",
       "<style scoped>\n",
       "    .dataframe tbody tr th:only-of-type {\n",
       "        vertical-align: middle;\n",
       "    }\n",
       "\n",
       "    .dataframe tbody tr th {\n",
       "        vertical-align: top;\n",
       "    }\n",
       "\n",
       "    .dataframe thead th {\n",
       "        text-align: right;\n",
       "    }\n",
       "</style>\n",
       "<table border=\"1\" class=\"dataframe\">\n",
       "  <thead>\n",
       "    <tr style=\"text-align: right;\">\n",
       "      <th></th>\n",
       "      <th>headline</th>\n",
       "      <th>description</th>\n",
       "      <th>is_data_engineer</th>\n",
       "    </tr>\n",
       "  </thead>\n",
       "  <tbody>\n",
       "    <tr>\n",
       "      <th>0</th>\n",
       "      <td>Junior ML engineer (Computer Vision, 3d)</td>\n",
       "      <td>— Python— хорошая математическая база для clas...</td>\n",
       "      <td>False</td>\n",
       "    </tr>\n",
       "    <tr>\n",
       "      <th>1</th>\n",
       "      <td>Senior Java/BigData Engineer</td>\n",
       "      <td>Experience in Java development (5 years+);Expe...</td>\n",
       "      <td>True</td>\n",
       "    </tr>\n",
       "    <tr>\n",
       "      <th>2</th>\n",
       "      <td>Java Engineer for HighLoad/BigData project | SM</td>\n",
       "      <td>— Professional Java experience 3+ years— OOP/d...</td>\n",
       "      <td>True</td>\n",
       "    </tr>\n",
       "    <tr>\n",
       "      <th>3</th>\n",
       "      <td>NLP Engineer</td>\n",
       "      <td>— 2+ years experience with Python, including e...</td>\n",
       "      <td>False</td>\n",
       "    </tr>\n",
       "    <tr>\n",
       "      <th>4</th>\n",
       "      <td>Data Engineer</td>\n",
       "      <td>— 2+ years of hands-on experience as a Data En...</td>\n",
       "      <td>True</td>\n",
       "    </tr>\n",
       "  </tbody>\n",
       "</table>\n",
       "</div>"
      ],
      "text/plain": [
       "                                          headline  \\\n",
       "0         Junior ML engineer (Computer Vision, 3d)   \n",
       "1                     Senior Java/BigData Engineer   \n",
       "2  Java Engineer for HighLoad/BigData project | SM   \n",
       "3                                     NLP Engineer   \n",
       "4                                    Data Engineer   \n",
       "\n",
       "                                         description  is_data_engineer  \n",
       "0  — Python— хорошая математическая база для clas...             False  \n",
       "1  Experience in Java development (5 years+);Expe...              True  \n",
       "2  — Professional Java experience 3+ years— OOP/d...              True  \n",
       "3  — 2+ years experience with Python, including e...             False  \n",
       "4  — 2+ years of hands-on experience as a Data En...              True  "
      ]
     },
     "execution_count": 7,
     "metadata": {},
     "output_type": "execute_result"
    }
   ],
   "source": [
    "df['is_data_engineer'] = df['headline'].apply(lambda x: 'data' in x.lower())\n",
    "df.head()"
   ]
  },
  {
   "cell_type": "code",
   "execution_count": 8,
   "metadata": {},
   "outputs": [
    {
     "data": {
      "text/html": [
       "<div>\n",
       "<style scoped>\n",
       "    .dataframe tbody tr th:only-of-type {\n",
       "        vertical-align: middle;\n",
       "    }\n",
       "\n",
       "    .dataframe tbody tr th {\n",
       "        vertical-align: top;\n",
       "    }\n",
       "\n",
       "    .dataframe thead th {\n",
       "        text-align: right;\n",
       "    }\n",
       "</style>\n",
       "<table border=\"1\" class=\"dataframe\">\n",
       "  <thead>\n",
       "    <tr style=\"text-align: right;\">\n",
       "      <th></th>\n",
       "      <th>headline</th>\n",
       "      <th>description</th>\n",
       "    </tr>\n",
       "  </thead>\n",
       "  <tbody>\n",
       "    <tr>\n",
       "      <th>1</th>\n",
       "      <td>Senior Java/BigData Engineer</td>\n",
       "      <td>Experience in Java development (5 years+);Expe...</td>\n",
       "    </tr>\n",
       "    <tr>\n",
       "      <th>2</th>\n",
       "      <td>Java Engineer for HighLoad/BigData project | SM</td>\n",
       "      <td>— Professional Java experience 3+ years— OOP/d...</td>\n",
       "    </tr>\n",
       "    <tr>\n",
       "      <th>4</th>\n",
       "      <td>Data Engineer</td>\n",
       "      <td>— 2+ years of hands-on experience as a Data En...</td>\n",
       "    </tr>\n",
       "    <tr>\n",
       "      <th>5</th>\n",
       "      <td>Middle Data Engineer (#14074599)</td>\n",
       "      <td>Our Client`s mission to make it simple for eve...</td>\n",
       "    </tr>\n",
       "    <tr>\n",
       "      <th>6</th>\n",
       "      <td>Data engineer</td>\n",
       "      <td>— 2+ years of experience in Scala server-side ...</td>\n",
       "    </tr>\n",
       "  </tbody>\n",
       "</table>\n",
       "</div>"
      ],
      "text/plain": [
       "                                          headline  \\\n",
       "1                     Senior Java/BigData Engineer   \n",
       "2  Java Engineer for HighLoad/BigData project | SM   \n",
       "4                                    Data Engineer   \n",
       "5                 Middle Data Engineer (#14074599)   \n",
       "6                                    Data engineer   \n",
       "\n",
       "                                         description  \n",
       "1  Experience in Java development (5 years+);Expe...  \n",
       "2  — Professional Java experience 3+ years— OOP/d...  \n",
       "4  — 2+ years of hands-on experience as a Data En...  \n",
       "5  Our Client`s mission to make it simple for eve...  \n",
       "6  — 2+ years of experience in Scala server-side ...  "
      ]
     },
     "execution_count": 8,
     "metadata": {},
     "output_type": "execute_result"
    }
   ],
   "source": [
    "df_engineers = df.query('is_data_engineer == True').copy()\n",
    "df_engineers.drop(['is_data_engineer'], axis=1, inplace=True)\n",
    "df_engineers.head()"
   ]
  },
  {
   "cell_type": "code",
   "execution_count": 9,
   "metadata": {},
   "outputs": [
    {
     "data": {
      "text/plain": [
       "True     118\n",
       "False     38\n",
       "Name: is_data_engineer, dtype: int64"
      ]
     },
     "execution_count": 9,
     "metadata": {},
     "output_type": "execute_result"
    }
   ],
   "source": [
    "df['is_data_engineer'].value_counts()"
   ]
  },
  {
   "cell_type": "code",
   "execution_count": 10,
   "metadata": {},
   "outputs": [],
   "source": [
    "from nltk.tokenize import word_tokenize"
   ]
  },
  {
   "cell_type": "code",
   "execution_count": 11,
   "metadata": {},
   "outputs": [],
   "source": [
    "def leave_relevant_technologies(lst_input):\n",
    "    techno_list = ['Airflow', 'Apache', 'Asure', 'Bash', 'BigQuery', 'Databricks', 'Data Bricks', 'Data Factory', \n",
    "            'Delta Lake', 'Docker', 'ETL', 'Extract Load Transform', 'Fiddler', 'Flink', 'GCP', 'Google Cloud', \n",
    "            'Jenkins', 'Jira', 'Impala', 'InfluxDB',  'Kinesis', 'Linux', 'Mesos',  'OOP', 'Postman', 'PowerBI', 'PySpark', \n",
    "            'R-Studio', 'SAS', 'snowflake', 'Spring', 'SSIS', 'SSAS', 'QA', 'Tableau', 'Tensorflow']\n",
    "    message_brokers = ['Kafka', 'RabbitMQ', 'AMQP', 'Redis']\n",
    "    databases = ['SQL', 'NoSQL', 'SQL Server', 'Cassandra', 'Cosmos DB', 'MongoDB', \n",
    "                 'MySQL', 'RabGTD', 'Rabbit', 'Oracle', 'PostgreSQL']\n",
    "    big_data = ['Hadoop', 'Hive', 'Hbase', 'MapReduce', 'Map Reduce', 'Pig', 'Spark']\n",
    "    amazon = ['AWS', 'Redshift']\n",
    "    formats = ['JSON', 'XML']\n",
    "    prog_lang = ['C', 'C++', 'R', 'Kotlin', 'Scala', 'Java', 'JS', 'JavaScript', 'Python', 'ReactJS']\n",
    "    soft_skills = ['Scrum', 'Agile']\n",
    "    final_list = amazon + techno_list + formats+ message_brokers + databases + big_data + prog_lang + soft_skills\n",
    "    lst_input = [w.lower() for w in lst_input]\n",
    "    lst = [word for word in final_list if word.lower() in lst_input]\n",
    "    return list(set(lst))"
   ]
  },
  {
   "cell_type": "code",
   "execution_count": 12,
   "metadata": {},
   "outputs": [],
   "source": [
    "df_engineers['description'] = df_engineers['description'].apply(word_tokenize)\n",
    "df_engineers['description'] = df_engineers['description'].apply(leave_relevant_technologies)"
   ]
  },
  {
   "cell_type": "code",
   "execution_count": 13,
   "metadata": {},
   "outputs": [
    {
     "data": {
      "text/html": [
       "<div>\n",
       "<style scoped>\n",
       "    .dataframe tbody tr th:only-of-type {\n",
       "        vertical-align: middle;\n",
       "    }\n",
       "\n",
       "    .dataframe tbody tr th {\n",
       "        vertical-align: top;\n",
       "    }\n",
       "\n",
       "    .dataframe thead th {\n",
       "        text-align: right;\n",
       "    }\n",
       "</style>\n",
       "<table border=\"1\" class=\"dataframe\">\n",
       "  <thead>\n",
       "    <tr style=\"text-align: right;\">\n",
       "      <th></th>\n",
       "      <th>headline</th>\n",
       "      <th>description</th>\n",
       "    </tr>\n",
       "  </thead>\n",
       "  <tbody>\n",
       "    <tr>\n",
       "      <th>1</th>\n",
       "      <td>Senior Java/BigData Engineer</td>\n",
       "      <td>[Linux, Hadoop, Apache, Jenkins, Spark, MongoD...</td>\n",
       "    </tr>\n",
       "    <tr>\n",
       "      <th>2</th>\n",
       "      <td>Java Engineer for HighLoad/BigData project | SM</td>\n",
       "      <td>[AWS, Linux, Java, MongoDB]</td>\n",
       "    </tr>\n",
       "    <tr>\n",
       "      <th>4</th>\n",
       "      <td>Data Engineer</td>\n",
       "      <td>[Python, BigQuery, Airflow, snowflake, AWS, Ki...</td>\n",
       "    </tr>\n",
       "    <tr>\n",
       "      <th>5</th>\n",
       "      <td>Middle Data Engineer (#14074599)</td>\n",
       "      <td>[AWS, Python, SQL]</td>\n",
       "    </tr>\n",
       "    <tr>\n",
       "      <th>6</th>\n",
       "      <td>Data engineer</td>\n",
       "      <td>[Apache, Agile, AWS, Kafka, Scala, Spark]</td>\n",
       "    </tr>\n",
       "    <tr>\n",
       "      <th>7</th>\n",
       "      <td>Middle Data Warehouse Engineer</td>\n",
       "      <td>[PostgreSQL, Tableau, MySQL, AWS, Redshift, ET...</td>\n",
       "    </tr>\n",
       "    <tr>\n",
       "      <th>8</th>\n",
       "      <td>Senior Scala/Java Engineer for Exabeam (Data L...</td>\n",
       "      <td>[Linux, Java, Python, Hadoop, MongoDB, Kafka, ...</td>\n",
       "    </tr>\n",
       "    <tr>\n",
       "      <th>9</th>\n",
       "      <td>Middle Data Engineer</td>\n",
       "      <td>[Scrum, SSAS, SSIS]</td>\n",
       "    </tr>\n",
       "    <tr>\n",
       "      <th>10</th>\n",
       "      <td>Data Engineer (Scala/Spark)</td>\n",
       "      <td>[Python, Cassandra, RabbitMQ, AWS, NoSQL, Reds...</td>\n",
       "    </tr>\n",
       "    <tr>\n",
       "      <th>13</th>\n",
       "      <td>Lead Big Data Engineer</td>\n",
       "      <td>[AWS, ETL, Hadoop, SQL]</td>\n",
       "    </tr>\n",
       "  </tbody>\n",
       "</table>\n",
       "</div>"
      ],
      "text/plain": [
       "                                             headline  \\\n",
       "1                        Senior Java/BigData Engineer   \n",
       "2     Java Engineer for HighLoad/BigData project | SM   \n",
       "4                                       Data Engineer   \n",
       "5                    Middle Data Engineer (#14074599)   \n",
       "6                                       Data engineer   \n",
       "7                      Middle Data Warehouse Engineer   \n",
       "8   Senior Scala/Java Engineer for Exabeam (Data L...   \n",
       "9                                Middle Data Engineer   \n",
       "10                        Data Engineer (Scala/Spark)   \n",
       "13                             Lead Big Data Engineer   \n",
       "\n",
       "                                          description  \n",
       "1   [Linux, Hadoop, Apache, Jenkins, Spark, MongoD...  \n",
       "2                         [AWS, Linux, Java, MongoDB]  \n",
       "4   [Python, BigQuery, Airflow, snowflake, AWS, Ki...  \n",
       "5                                  [AWS, Python, SQL]  \n",
       "6           [Apache, Agile, AWS, Kafka, Scala, Spark]  \n",
       "7   [PostgreSQL, Tableau, MySQL, AWS, Redshift, ET...  \n",
       "8   [Linux, Java, Python, Hadoop, MongoDB, Kafka, ...  \n",
       "9                                 [Scrum, SSAS, SSIS]  \n",
       "10  [Python, Cassandra, RabbitMQ, AWS, NoSQL, Reds...  \n",
       "13                            [AWS, ETL, Hadoop, SQL]  "
      ]
     },
     "execution_count": 13,
     "metadata": {},
     "output_type": "execute_result"
    }
   ],
   "source": [
    "df_engineers.head(10)"
   ]
  },
  {
   "cell_type": "code",
   "execution_count": 14,
   "metadata": {},
   "outputs": [],
   "source": [
    "result = df_engineers['description'].tolist()\n",
    "result = [item for sublist in result for item in sublist]"
   ]
  },
  {
   "cell_type": "code",
   "execution_count": 15,
   "metadata": {},
   "outputs": [],
   "source": [
    "from collections import Counter\n",
    "cnt = Counter(result).most_common()"
   ]
  },
  {
   "cell_type": "code",
   "execution_count": 16,
   "metadata": {},
   "outputs": [],
   "source": [
    "total_number = df_engineers.shape[0]\n",
    "final_result = []\n",
    "for pair in cnt:\n",
    "    pair = list(pair)\n",
    "    pair[1] = round(pair[1] / total_number * 100, 2)\n",
    "    final_result.append(tuple(pair))"
   ]
  },
  {
   "cell_type": "code",
   "execution_count": 17,
   "metadata": {},
   "outputs": [
    {
     "data": {
      "text/plain": [
       "[('Python', 60.17),\n",
       " ('SQL', 58.47),\n",
       " ('AWS', 49.15),\n",
       " ('Spark', 42.37),\n",
       " ('ETL', 31.36),\n",
       " ('Kafka', 29.66),\n",
       " ('Java', 26.27),\n",
       " ('Hadoop', 21.19),\n",
       " ('PostgreSQL', 21.19),\n",
       " ('Airflow', 20.34),\n",
       " ('Apache', 19.49),\n",
       " ('Redshift', 18.64),\n",
       " ('Agile', 16.1),\n",
       " ('NoSQL', 16.1),\n",
       " ('Scala', 14.41),\n",
       " ('MySQL', 14.41),\n",
       " ('Docker', 14.41),\n",
       " ('BigQuery', 13.56),\n",
       " ('GCP', 13.56),\n",
       " ('MongoDB', 11.86),\n",
       " ('Hive', 11.86),\n",
       " ('Cassandra', 9.32),\n",
       " ('Linux', 8.47),\n",
       " ('R', 8.47),\n",
       " ('Jenkins', 7.63),\n",
       " ('snowflake', 7.63),\n",
       " ('QA', 7.63),\n",
       " ('Tableau', 6.78),\n",
       " ('MapReduce', 6.78),\n",
       " ('Hbase', 6.78),\n",
       " ('Scrum', 5.93),\n",
       " ('Redis', 5.93),\n",
       " ('PySpark', 5.93),\n",
       " ('Jira', 5.08),\n",
       " ('Oracle', 5.08),\n",
       " ('Kinesis', 4.24),\n",
       " ('RabbitMQ', 4.24),\n",
       " ('Bash', 3.39),\n",
       " ('SSIS', 3.39),\n",
       " ('JavaScript', 3.39),\n",
       " ('OOP', 3.39),\n",
       " ('C', 3.39),\n",
       " ('Pig', 3.39),\n",
       " ('PowerBI', 3.39),\n",
       " ('Flink', 2.54),\n",
       " ('Tensorflow', 2.54),\n",
       " ('C++', 2.54),\n",
       " ('Impala', 2.54),\n",
       " ('Spring', 2.54),\n",
       " ('Databricks', 2.54),\n",
       " ('JSON', 2.54),\n",
       " ('Fiddler', 1.69),\n",
       " ('Kotlin', 1.69),\n",
       " ('Postman', 1.69),\n",
       " ('SSAS', 0.85),\n",
       " ('AMQP', 0.85),\n",
       " ('Mesos', 0.85),\n",
       " ('ReactJS', 0.85),\n",
       " ('R-Studio', 0.85),\n",
       " ('Rabbit', 0.85),\n",
       " ('XML', 0.85)]"
      ]
     },
     "execution_count": 17,
     "metadata": {},
     "output_type": "execute_result"
    }
   ],
   "source": [
    "final_result"
   ]
  },
  {
   "cell_type": "code",
   "execution_count": 28,
   "metadata": {},
   "outputs": [],
   "source": [
    "def leave_prog_lang(lst_input):\n",
    "    prog_lang = ['C', 'C++', 'R', 'Kotlin', 'Scala', 'Java', 'JS', 'JavaScript', 'Python', 'ReactJS']\n",
    "    lst_input = [w.lower() for w in lst_input]\n",
    "    lst = [word for word in prog_lang if word.lower() in lst_input]\n",
    "    return list(set(lst))"
   ]
  },
  {
   "cell_type": "code",
   "execution_count": 29,
   "metadata": {},
   "outputs": [],
   "source": [
    "df_engineers['prog_lang'] = df_engineers['description'].apply(leave_prog_lang)"
   ]
  },
  {
   "cell_type": "code",
   "execution_count": 30,
   "metadata": {},
   "outputs": [],
   "source": [
    "prog_langs = df_engineers['prog_lang'].tolist()\n",
    "prog_langs = [item for sublist in prog_langs for item in sublist]"
   ]
  },
  {
   "cell_type": "code",
   "execution_count": 47,
   "metadata": {},
   "outputs": [
    {
     "data": {
      "text/plain": [
       "[('Python', 71), ('Java', 31), ('Scala', 17), ('R', 10), ('JavaScript', 4)]"
      ]
     },
     "execution_count": 47,
     "metadata": {},
     "output_type": "execute_result"
    }
   ],
   "source": [
    "cnt_prog_langs = Counter(prog_langs).most_common()[:5]\n",
    "cnt_prog_langs"
   ]
  },
  {
   "cell_type": "code",
   "execution_count": 48,
   "metadata": {},
   "outputs": [],
   "source": [
    "labels = []\n",
    "slices = []\n",
    "for pair in cnt_prog_langs:\n",
    "    labels.append(pair[0])\n",
    "    slices.append(pair[1])"
   ]
  },
  {
   "cell_type": "code",
   "execution_count": 49,
   "metadata": {},
   "outputs": [
    {
     "data": {
      "image/png": "[encoded data removed]",
      "text/plain": [
       "<Figure size 1440x576 with 1 Axes>"
      ]
     },
     "metadata": {},
     "output_type": "display_data"
    }
   ],
   "source": [
    "import matplotlib.pyplot as plt\n",
    "plt.rcParams['figure.figsize'] = [20,8]\n",
    "plt.pie(slices, labels=labels, wedgeprops={wedgecolor=bl});"
   ]
  },
  {
   "cell_type": "code",
   "execution_count": null,
   "metadata": {},
   "outputs": [],
   "source": []
  }
 ],
 "metadata": {
  "kernelspec": {
   "display_name": "Python 3",
   "language": "python",
   "name": "python3"
  },
  "language_info": {
   "codemirror_mode": {
    "name": "ipython",
    "version": 3
   },
   "file_extension": ".py",
   "mimetype": "text/x-python",
   "name": "python",
   "nbconvert_exporter": "python",
   "pygments_lexer": "ipython3",
   "version": "3.8.2"
  }
 },
 "nbformat": 4,
 "nbformat_minor": 4
}
