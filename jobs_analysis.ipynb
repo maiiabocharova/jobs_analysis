{
 "cells": [
  {
   "cell_type": "markdown",
   "metadata": {},
   "source": [
    "## Creating csv file"
   ]
  },
  {
   "cell_type": "code",
   "execution_count": 2,
   "metadata": {},
   "outputs": [],
   "source": [
    "import codecs\n",
    "from bs4 import BeautifulSoup\n",
    "import csv\n",
    "import os"
   ]
  },
  {
   "cell_type": "code",
   "execution_count": 3,
   "metadata": {},
   "outputs": [
    {
     "data": {
      "text/plain": [
       "22"
      ]
     },
     "execution_count": 3,
     "metadata": {},
     "output_type": "execute_result"
    }
   ],
   "source": [
    "csv_file = open('dou_jobs.csv', 'w', encoding='utf-8')\n",
    "csv_writer = csv.writer(csv_file)\n",
    "csv_writer.writerow(['headline', 'description'])"
   ]
  },
  {
   "cell_type": "code",
   "execution_count": 4,
   "metadata": {},
   "outputs": [],
   "source": [
    "directory = 'result'\n",
    "for filename in os.listdir(directory):    \n",
    "    file = codecs.open(directory + '/' + filename, \"r\", 'utf-8')\n",
    "    soup = BeautifulSoup(file)\n",
    "    headline = soup.find('h1', class_=\"g-h2\").get_text()\n",
    "    vacancy = soup.find('div', class_=\"l-vacancy\")\n",
    "    descriptions = vacancy.find_all('div', class_=\"text b-typo vacancy-section\")\n",
    "    text = ''\n",
    "    for description in descriptions:\n",
    "        text += description.get_text().strip().replace('—', '')\n",
    "    csv_writer.writerow([headline, text])"
   ]
  },
  {
   "cell_type": "code",
   "execution_count": 5,
   "metadata": {},
   "outputs": [],
   "source": [
    "import pandas as pd"
   ]
  },
  {
   "cell_type": "code",
   "execution_count": 26,
   "metadata": {},
   "outputs": [],
   "source": [
    "df = pd.read_csv('dou_jobs.csv')\n",
    "csv_file.close()"
   ]
  },
  {
   "cell_type": "code",
   "execution_count": 27,
   "metadata": {},
   "outputs": [
    {
     "data": {
      "text/html": [
       "<div>\n",
       "<style scoped>\n",
       "    .dataframe tbody tr th:only-of-type {\n",
       "        vertical-align: middle;\n",
       "    }\n",
       "\n",
       "    .dataframe tbody tr th {\n",
       "        vertical-align: top;\n",
       "    }\n",
       "\n",
       "    .dataframe thead th {\n",
       "        text-align: right;\n",
       "    }\n",
       "</style>\n",
       "<table border=\"1\" class=\"dataframe\">\n",
       "  <thead>\n",
       "    <tr style=\"text-align: right;\">\n",
       "      <th></th>\n",
       "      <th>headline</th>\n",
       "      <th>description</th>\n",
       "    </tr>\n",
       "  </thead>\n",
       "  <tbody>\n",
       "    <tr>\n",
       "      <th>0</th>\n",
       "      <td>Python Software Engineer (Big Data project)</td>\n",
       "      <td>ABOUT COMPANYSoftConstruct Ukraine is one of t...</td>\n",
       "    </tr>\n",
       "    <tr>\n",
       "      <th>1</th>\n",
       "      <td>Experienced ML Engineer</td>\n",
       "      <td>ЛУН  найбільша PropTech компанія в Україні. На...</td>\n",
       "    </tr>\n",
       "    <tr>\n",
       "      <th>2</th>\n",
       "      <td>Full Stack Engineer for CV-based project</td>\n",
       "      <td>• 2-3+ years of Web Development (Frontend (30)...</td>\n",
       "    </tr>\n",
       "    <tr>\n",
       "      <th>3</th>\n",
       "      <td>Data Engineer</td>\n",
       "      <td>We’re incredibly happy to have been entrusted ...</td>\n",
       "    </tr>\n",
       "    <tr>\n",
       "      <th>4</th>\n",
       "      <td>Python | ML Engineer (Part time, Full Time, Re...</td>\n",
       "      <td>Experience as a Data Engineer from 1.5 yearsGo...</td>\n",
       "    </tr>\n",
       "  </tbody>\n",
       "</table>\n",
       "</div>"
      ],
      "text/plain": [
       "                                            headline  \\\n",
       "0        Python Software Engineer (Big Data project)   \n",
       "1                            Experienced ML Engineer   \n",
       "2           Full Stack Engineer for CV-based project   \n",
       "3                                      Data Engineer   \n",
       "4  Python | ML Engineer (Part time, Full Time, Re...   \n",
       "\n",
       "                                         description  \n",
       "0  ABOUT COMPANYSoftConstruct Ukraine is one of t...  \n",
       "1  ЛУН  найбільша PropTech компанія в Україні. На...  \n",
       "2  • 2-3+ years of Web Development (Frontend (30)...  \n",
       "3  We’re incredibly happy to have been entrusted ...  \n",
       "4  Experience as a Data Engineer from 1.5 yearsGo...  "
      ]
     },
     "execution_count": 27,
     "metadata": {},
     "output_type": "execute_result"
    }
   ],
   "source": [
    "df.head()"
   ]
  },
  {
   "cell_type": "markdown",
   "metadata": {},
   "source": [
    "## Text processing"
   ]
  },
  {
   "cell_type": "code",
   "execution_count": 28,
   "metadata": {},
   "outputs": [
    {
     "data": {
      "text/html": [
       "<div>\n",
       "<style scoped>\n",
       "    .dataframe tbody tr th:only-of-type {\n",
       "        vertical-align: middle;\n",
       "    }\n",
       "\n",
       "    .dataframe tbody tr th {\n",
       "        vertical-align: top;\n",
       "    }\n",
       "\n",
       "    .dataframe thead th {\n",
       "        text-align: right;\n",
       "    }\n",
       "</style>\n",
       "<table border=\"1\" class=\"dataframe\">\n",
       "  <thead>\n",
       "    <tr style=\"text-align: right;\">\n",
       "      <th></th>\n",
       "      <th>headline</th>\n",
       "      <th>description</th>\n",
       "      <th>is_data_engineer</th>\n",
       "    </tr>\n",
       "  </thead>\n",
       "  <tbody>\n",
       "    <tr>\n",
       "      <th>0</th>\n",
       "      <td>Python Software Engineer (Big Data project)</td>\n",
       "      <td>ABOUT COMPANYSoftConstruct Ukraine is one of t...</td>\n",
       "      <td>True</td>\n",
       "    </tr>\n",
       "    <tr>\n",
       "      <th>1</th>\n",
       "      <td>Experienced ML Engineer</td>\n",
       "      <td>ЛУН  найбільша PropTech компанія в Україні. На...</td>\n",
       "      <td>False</td>\n",
       "    </tr>\n",
       "    <tr>\n",
       "      <th>2</th>\n",
       "      <td>Full Stack Engineer for CV-based project</td>\n",
       "      <td>• 2-3+ years of Web Development (Frontend (30)...</td>\n",
       "      <td>False</td>\n",
       "    </tr>\n",
       "    <tr>\n",
       "      <th>3</th>\n",
       "      <td>Data Engineer</td>\n",
       "      <td>We’re incredibly happy to have been entrusted ...</td>\n",
       "      <td>True</td>\n",
       "    </tr>\n",
       "    <tr>\n",
       "      <th>4</th>\n",
       "      <td>Python | ML Engineer (Part time, Full Time, Re...</td>\n",
       "      <td>Experience as a Data Engineer from 1.5 yearsGo...</td>\n",
       "      <td>False</td>\n",
       "    </tr>\n",
       "  </tbody>\n",
       "</table>\n",
       "</div>"
      ],
      "text/plain": [
       "                                            headline  \\\n",
       "0        Python Software Engineer (Big Data project)   \n",
       "1                            Experienced ML Engineer   \n",
       "2           Full Stack Engineer for CV-based project   \n",
       "3                                      Data Engineer   \n",
       "4  Python | ML Engineer (Part time, Full Time, Re...   \n",
       "\n",
       "                                         description  is_data_engineer  \n",
       "0  ABOUT COMPANYSoftConstruct Ukraine is one of t...              True  \n",
       "1  ЛУН  найбільша PropTech компанія в Україні. На...             False  \n",
       "2  • 2-3+ years of Web Development (Frontend (30)...             False  \n",
       "3  We’re incredibly happy to have been entrusted ...              True  \n",
       "4  Experience as a Data Engineer from 1.5 yearsGo...             False  "
      ]
     },
     "execution_count": 28,
     "metadata": {},
     "output_type": "execute_result"
    }
   ],
   "source": [
    "df['is_data_engineer'] = df['headline'].apply(lambda x: 'data' in x.lower())\n",
    "df.head()"
   ]
  },
  {
   "cell_type": "code",
   "execution_count": 29,
   "metadata": {},
   "outputs": [
    {
     "data": {
      "text/html": [
       "<div>\n",
       "<style scoped>\n",
       "    .dataframe tbody tr th:only-of-type {\n",
       "        vertical-align: middle;\n",
       "    }\n",
       "\n",
       "    .dataframe tbody tr th {\n",
       "        vertical-align: top;\n",
       "    }\n",
       "\n",
       "    .dataframe thead th {\n",
       "        text-align: right;\n",
       "    }\n",
       "</style>\n",
       "<table border=\"1\" class=\"dataframe\">\n",
       "  <thead>\n",
       "    <tr style=\"text-align: right;\">\n",
       "      <th></th>\n",
       "      <th>headline</th>\n",
       "      <th>description</th>\n",
       "    </tr>\n",
       "  </thead>\n",
       "  <tbody>\n",
       "    <tr>\n",
       "      <th>0</th>\n",
       "      <td>Python Software Engineer (Big Data project)</td>\n",
       "      <td>ABOUT COMPANYSoftConstruct Ukraine is one of t...</td>\n",
       "    </tr>\n",
       "    <tr>\n",
       "      <th>3</th>\n",
       "      <td>Data Engineer</td>\n",
       "      <td>We’re incredibly happy to have been entrusted ...</td>\n",
       "    </tr>\n",
       "    <tr>\n",
       "      <th>5</th>\n",
       "      <td>Data Engineer</td>\n",
       "      <td>Technical skills you should have Data analysis...</td>\n",
       "    </tr>\n",
       "    <tr>\n",
       "      <th>6</th>\n",
       "      <td>Data Quality Engineer (BI)</td>\n",
       "      <td>Seeking a Data Quality Engineer that has prove...</td>\n",
       "    </tr>\n",
       "    <tr>\n",
       "      <th>7</th>\n",
       "      <td>Data Engineer</td>\n",
       "      <td>IntelliBoard Inc., is a growing EdTech softwar...</td>\n",
       "    </tr>\n",
       "  </tbody>\n",
       "</table>\n",
       "</div>"
      ],
      "text/plain": [
       "                                      headline  \\\n",
       "0  Python Software Engineer (Big Data project)   \n",
       "3                                Data Engineer   \n",
       "5                                Data Engineer   \n",
       "6                   Data Quality Engineer (BI)   \n",
       "7                                Data Engineer   \n",
       "\n",
       "                                         description  \n",
       "0  ABOUT COMPANYSoftConstruct Ukraine is one of t...  \n",
       "3  We’re incredibly happy to have been entrusted ...  \n",
       "5  Technical skills you should have Data analysis...  \n",
       "6  Seeking a Data Quality Engineer that has prove...  \n",
       "7  IntelliBoard Inc., is a growing EdTech softwar...  "
      ]
     },
     "execution_count": 29,
     "metadata": {},
     "output_type": "execute_result"
    }
   ],
   "source": [
    "df_engineers = df.query('is_data_engineer == True').copy()\n",
    "df_engineers.drop(['is_data_engineer'], axis=1, inplace=True)\n",
    "df_engineers.head()"
   ]
  },
  {
   "cell_type": "code",
   "execution_count": 30,
   "metadata": {},
   "outputs": [
    {
     "data": {
      "text/plain": [
       "True     123\n",
       "False     36\n",
       "Name: is_data_engineer, dtype: int64"
      ]
     },
     "execution_count": 30,
     "metadata": {},
     "output_type": "execute_result"
    }
   ],
   "source": [
    "df['is_data_engineer'].value_counts()"
   ]
  },
  {
   "cell_type": "code",
   "execution_count": 32,
   "metadata": {},
   "outputs": [],
   "source": [
    "from nltk.tokenize import word_tokenize"
   ]
  },
  {
   "cell_type": "code",
   "execution_count": 33,
   "metadata": {},
   "outputs": [],
   "source": [
    "def leave_relevant_technologies(lst_input):\n",
    "    techno_list = ['Airflow', 'Apache', 'Asure', 'Bash', 'BigQuery', 'Databricks', 'Data Bricks', 'Data Factory', \n",
    "            'Delta Lake', 'Docker', 'ETL', 'Extract Load Transform', 'Fiddler', 'Flink', 'GCP', 'Google Cloud', \n",
    "            'Jenkins', 'Jira', 'Impala', 'InfluxDB',  'Kinesis', 'Linux', 'Mesos',  'OOP', 'Postman', 'PowerBI', 'PySpark', \n",
    "            'R-Studio', 'SAS', 'snowflake', 'Spring', 'SSIS', 'SSAS', 'QA', 'Tableau', 'Tensorflow']\n",
    "    message_brokers = ['Kafka', 'RabbitMQ', 'AMQP', 'Redis']\n",
    "    databases = ['SQL', 'NoSQL', 'SQL Server', 'Cassandra', 'Cosmos DB', 'MongoDB', \n",
    "                 'MySQL', 'RabGTD', 'Rabbit', 'Oracle', 'PostgreSQL', 'T-SQL']\n",
    "    big_data = ['Hadoop', 'Hive', 'Hbase', 'MapReduce', 'Map Reduce', 'Pig', 'Spark']\n",
    "    amazon = ['AWS', 'Redshift']\n",
    "    formats = ['JSON', 'XML']\n",
    "    prog_lang = ['C', 'C++', 'R', 'Kotlin', 'Scala', 'Java', 'JS', 'JavaScript', 'Python', 'ReactJS']\n",
    "    soft_skills = ['Scrum', 'Agile']\n",
    "    final_list = amazon + techno_list + formats+ message_brokers + databases + big_data + prog_lang + soft_skills\n",
    "    lst_input = [w.lower() for w in lst_input]\n",
    "    lst = [word for word in final_list if word.lower() in lst_input]\n",
    "    return list(set(lst))"
   ]
  },
  {
   "cell_type": "code",
   "execution_count": 34,
   "metadata": {},
   "outputs": [],
   "source": [
    "df_engineers['description'] = df_engineers['description'].apply(word_tokenize)\n",
    "df_engineers['description'] = df_engineers['description'].apply(leave_relevant_technologies)"
   ]
  },
  {
   "cell_type": "code",
   "execution_count": 35,
   "metadata": {},
   "outputs": [
    {
     "data": {
      "text/html": [
       "<div>\n",
       "<style scoped>\n",
       "    .dataframe tbody tr th:only-of-type {\n",
       "        vertical-align: middle;\n",
       "    }\n",
       "\n",
       "    .dataframe tbody tr th {\n",
       "        vertical-align: top;\n",
       "    }\n",
       "\n",
       "    .dataframe thead th {\n",
       "        text-align: right;\n",
       "    }\n",
       "</style>\n",
       "<table border=\"1\" class=\"dataframe\">\n",
       "  <thead>\n",
       "    <tr style=\"text-align: right;\">\n",
       "      <th></th>\n",
       "      <th>headline</th>\n",
       "      <th>description</th>\n",
       "    </tr>\n",
       "  </thead>\n",
       "  <tbody>\n",
       "    <tr>\n",
       "      <th>0</th>\n",
       "      <td>Python Software Engineer (Big Data project)</td>\n",
       "      <td>[SQL, Apache, PostgreSQL, Spark, BigQuery, NoS...</td>\n",
       "    </tr>\n",
       "    <tr>\n",
       "      <th>3</th>\n",
       "      <td>Data Engineer</td>\n",
       "      <td>[Python, SQL, BigQuery, Tensorflow]</td>\n",
       "    </tr>\n",
       "    <tr>\n",
       "      <th>5</th>\n",
       "      <td>Data Engineer</td>\n",
       "      <td>[Java, SQL, PowerBI, R]</td>\n",
       "    </tr>\n",
       "    <tr>\n",
       "      <th>6</th>\n",
       "      <td>Data Quality Engineer (BI)</td>\n",
       "      <td>[Python, QA, SQL]</td>\n",
       "    </tr>\n",
       "    <tr>\n",
       "      <th>7</th>\n",
       "      <td>Data Engineer</td>\n",
       "      <td>[SQL, PostgreSQL, Python, ETL, OOP]</td>\n",
       "    </tr>\n",
       "    <tr>\n",
       "      <th>9</th>\n",
       "      <td>Big Data Engineer (Canadian mining industry), ...</td>\n",
       "      <td>[SQL, PostgreSQL, BigQuery, Airflow, Python, GCP]</td>\n",
       "    </tr>\n",
       "    <tr>\n",
       "      <th>12</th>\n",
       "      <td>Senior Software Engineer (Big Data) [Lviv]</td>\n",
       "      <td>[SQL, Spark, Kafka, AWS, Hive]</td>\n",
       "    </tr>\n",
       "    <tr>\n",
       "      <th>13</th>\n",
       "      <td>Data Engineer</td>\n",
       "      <td>[SQL, Airflow, AWS, Python, Tableau, ETL]</td>\n",
       "    </tr>\n",
       "    <tr>\n",
       "      <th>14</th>\n",
       "      <td>Big Data DevOps Engineer Freelance (remote)</td>\n",
       "      <td>[Bash, Jenkins, Spark, Kafka, Airflow, Linux, ...</td>\n",
       "    </tr>\n",
       "    <tr>\n",
       "      <th>15</th>\n",
       "      <td>Middle/Senior BigData Software Engineer</td>\n",
       "      <td>[Jira, Apache, Spark, R]</td>\n",
       "    </tr>\n",
       "  </tbody>\n",
       "</table>\n",
       "</div>"
      ],
      "text/plain": [
       "                                             headline  \\\n",
       "0         Python Software Engineer (Big Data project)   \n",
       "3                                       Data Engineer   \n",
       "5                                       Data Engineer   \n",
       "6                          Data Quality Engineer (BI)   \n",
       "7                                       Data Engineer   \n",
       "9   Big Data Engineer (Canadian mining industry), ...   \n",
       "12         Senior Software Engineer (Big Data) [Lviv]   \n",
       "13                                      Data Engineer   \n",
       "14        Big Data DevOps Engineer Freelance (remote)   \n",
       "15            Middle/Senior BigData Software Engineer   \n",
       "\n",
       "                                          description  \n",
       "0   [SQL, Apache, PostgreSQL, Spark, BigQuery, NoS...  \n",
       "3                 [Python, SQL, BigQuery, Tensorflow]  \n",
       "5                             [Java, SQL, PowerBI, R]  \n",
       "6                                   [Python, QA, SQL]  \n",
       "7                 [SQL, PostgreSQL, Python, ETL, OOP]  \n",
       "9   [SQL, PostgreSQL, BigQuery, Airflow, Python, GCP]  \n",
       "12                     [SQL, Spark, Kafka, AWS, Hive]  \n",
       "13          [SQL, Airflow, AWS, Python, Tableau, ETL]  \n",
       "14  [Bash, Jenkins, Spark, Kafka, Airflow, Linux, ...  \n",
       "15                           [Jira, Apache, Spark, R]  "
      ]
     },
     "execution_count": 35,
     "metadata": {},
     "output_type": "execute_result"
    }
   ],
   "source": [
    "df_engineers.head(10)"
   ]
  },
  {
   "cell_type": "code",
   "execution_count": 36,
   "metadata": {},
   "outputs": [],
   "source": [
    "result = df_engineers['description'].tolist()\n",
    "result = [item for sublist in result for item in sublist]"
   ]
  },
  {
   "cell_type": "code",
   "execution_count": 37,
   "metadata": {},
   "outputs": [],
   "source": [
    "from collections import Counter\n",
    "cnt = Counter(result).most_common()"
   ]
  },
  {
   "cell_type": "code",
   "execution_count": 38,
   "metadata": {},
   "outputs": [],
   "source": [
    "total_number = df_engineers.shape[0]\n",
    "final_result = []\n",
    "for pair in cnt:\n",
    "    pair = list(pair)\n",
    "    pair[1] = round(pair[1] / total_number * 100, 2)\n",
    "    final_result.append(tuple(pair))"
   ]
  },
  {
   "cell_type": "code",
   "execution_count": 39,
   "metadata": {},
   "outputs": [
    {
     "data": {
      "text/plain": [
       "[('Python', 65.04),\n",
       " ('SQL', 60.16),\n",
       " ('AWS', 50.41),\n",
       " ('Spark', 39.02),\n",
       " ('ETL', 34.15),\n",
       " ('Kafka', 29.27),\n",
       " ('Java', 23.58),\n",
       " ('PostgreSQL', 22.76),\n",
       " ('Redshift', 21.14),\n",
       " ('Airflow', 19.51),\n",
       " ('Docker', 18.7),\n",
       " ('Apache', 17.89),\n",
       " ('Hadoop', 17.89),\n",
       " ('Agile', 17.07),\n",
       " ('Scala', 15.45),\n",
       " ('MongoDB', 14.63),\n",
       " ('BigQuery', 13.01),\n",
       " ('NoSQL', 13.01),\n",
       " ('MySQL', 12.2),\n",
       " ('snowflake', 10.57),\n",
       " ('R', 9.76),\n",
       " ('Tableau', 9.76),\n",
       " ('Jenkins', 9.76),\n",
       " ('Linux', 8.94),\n",
       " ('GCP', 8.94),\n",
       " ('Hive', 8.94),\n",
       " ('PySpark', 8.94),\n",
       " ('Kinesis', 7.32),\n",
       " ('Cassandra', 7.32),\n",
       " ('Redis', 6.5),\n",
       " ('MapReduce', 5.69),\n",
       " ('Jira', 5.69),\n",
       " ('QA', 4.88),\n",
       " ('Oracle', 4.88),\n",
       " ('Scrum', 4.88),\n",
       " ('C++', 4.88),\n",
       " ('Tensorflow', 4.07),\n",
       " ('C', 4.07),\n",
       " ('JSON', 4.07),\n",
       " ('SSIS', 4.07),\n",
       " ('RabbitMQ', 4.07),\n",
       " ('Flink', 4.07),\n",
       " ('Hbase', 4.07),\n",
       " ('PowerBI', 3.25),\n",
       " ('OOP', 3.25),\n",
       " ('Bash', 3.25),\n",
       " ('JavaScript', 3.25),\n",
       " ('Databricks', 3.25),\n",
       " ('Fiddler', 1.63),\n",
       " ('Postman', 1.63),\n",
       " ('XML', 1.63),\n",
       " ('SSAS', 1.63),\n",
       " ('T-SQL', 1.63),\n",
       " ('Pig', 1.63),\n",
       " ('Kotlin', 1.63),\n",
       " ('R-Studio', 0.81),\n",
       " ('Rabbit', 0.81),\n",
       " ('Impala', 0.81),\n",
       " ('Spring', 0.81),\n",
       " ('AMQP', 0.81),\n",
       " ('Mesos', 0.81),\n",
       " ('ReactJS', 0.81)]"
      ]
     },
     "execution_count": 39,
     "metadata": {},
     "output_type": "execute_result"
    }
   ],
   "source": [
    "final_result"
   ]
  },
  {
   "cell_type": "markdown",
   "metadata": {},
   "source": [
    "## Visualisation"
   ]
  },
  {
   "cell_type": "code",
   "execution_count": 40,
   "metadata": {},
   "outputs": [],
   "source": [
    "def leave_prog_lang(lst_input):\n",
    "    prog_lang = ['C', 'C++', 'R', 'Kotlin', 'Scala', 'Java', 'JS', 'JavaScript', 'Python', 'ReactJS']\n",
    "    lst_input = [w.lower() for w in lst_input]\n",
    "    lst = [word for word in prog_lang if word.lower() in lst_input]\n",
    "    return list(set(lst))"
   ]
  },
  {
   "cell_type": "code",
   "execution_count": 41,
   "metadata": {},
   "outputs": [],
   "source": [
    "df_engineers['prog_lang'] = df_engineers['description'].apply(leave_prog_lang)"
   ]
  },
  {
   "cell_type": "code",
   "execution_count": 42,
   "metadata": {},
   "outputs": [],
   "source": [
    "prog_langs = df_engineers['prog_lang'].tolist()\n",
    "prog_langs = [item for sublist in prog_langs for item in sublist]"
   ]
  },
  {
   "cell_type": "code",
   "execution_count": 43,
   "metadata": {},
   "outputs": [
    {
     "data": {
      "text/plain": [
       "[('Python', 80), ('Java', 29), ('Scala', 19), ('R', 12), ('C++', 6), ('C', 5)]"
      ]
     },
     "execution_count": 43,
     "metadata": {},
     "output_type": "execute_result"
    }
   ],
   "source": [
    "cnt_prog_langs = Counter(prog_langs).most_common()[:6]\n",
    "cnt_prog_langs"
   ]
  },
  {
   "cell_type": "code",
   "execution_count": 44,
   "metadata": {},
   "outputs": [],
   "source": [
    "labels = []\n",
    "slices = []\n",
    "for pair in cnt_prog_langs:\n",
    "    labels.append(pair[0])\n",
    "    slices.append(pair[1])"
   ]
  },
  {
   "cell_type": "code",
   "execution_count": 45,
   "metadata": {},
   "outputs": [
    {
     "data": {
      "image/png": "[encoded data removed]",
      "text/plain": [
       "<Figure size 1440x576 with 1 Axes>"
      ]
     },
     "metadata": {},
     "output_type": "display_data"
    }
   ],
   "source": [
    "import matplotlib.pyplot as plt\n",
    "plt.rcParams['figure.figsize'] = [20,8]\n",
    "plt.pie(slices, labels=labels, wedgeprops={'edgecolor':'black'});"
   ]
  },
  {
   "cell_type": "code",
   "execution_count": null,
   "metadata": {},
   "outputs": [],
   "source": []
  }
 ],
 "metadata": {
  "kernelspec": {
   "display_name": "Python 3",
   "language": "python",
   "name": "python3"
  },
  "language_info": {
   "codemirror_mode": {
    "name": "ipython",
    "version": 3
   },
   "file_extension": ".py",
   "mimetype": "text/x-python",
   "name": "python",
   "nbconvert_exporter": "python",
   "pygments_lexer": "ipython3",
   "version": "3.8.2"
  }
 },
 "nbformat": 4,
 "nbformat_minor": 4
}
